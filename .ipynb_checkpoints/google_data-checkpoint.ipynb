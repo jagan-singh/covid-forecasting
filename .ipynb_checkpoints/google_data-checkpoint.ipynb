{
 "cells": [
  {
   "cell_type": "code",
   "execution_count": 1,
   "metadata": {},
   "outputs": [],
   "source": [
    "import pandas as pd\n",
    "import numpy as np\n",
    "import matplotlib.pyplot as plt\n",
    "plt.style.use('fivethirtyeight')\n",
    "params = {'legend.fontsize': 'medium',\n",
    "          'figure.figsize': (8, 5),\n",
    "         'axes.labelsize': 'medium',\n",
    "         'axes.titlesize':'medium',\n",
    "         'xtick.labelsize':'small',\n",
    "         'ytick.labelsize':'small'}\n",
    "plt.rcParams.update(params)\n",
    "import warnings\n",
    "warnings.filterwarnings('ignore')"
   ]
  },
  {
   "cell_type": "code",
   "execution_count": 2,
   "metadata": {},
   "outputs": [],
   "source": [
    "df = pd.read_csv('2020_US_Region_Mobility_Report.csv')\n",
    "df_us = pd.read_csv('us.csv')"
   ]
  },
  {
   "cell_type": "code",
   "execution_count": 3,
   "metadata": {},
   "outputs": [],
   "source": [
    "us = df[df['sub_region_1'].isna()]"
   ]
  },
  {
   "cell_type": "code",
   "execution_count": 4,
   "metadata": {},
   "outputs": [
    {
     "data": {
      "text/plain": [
       "(218, 14)"
      ]
     },
     "execution_count": 4,
     "metadata": {},
     "output_type": "execute_result"
    }
   ],
   "source": [
    "us.shape"
   ]
  },
  {
   "cell_type": "code",
   "execution_count": 5,
   "metadata": {},
   "outputs": [],
   "source": [
    "us = us.drop(['country_region_code', 'country_region', 'sub_region_1', \n",
    "                   'sub_region_2', 'metro_area', 'iso_3166_2_code', 'census_fips_code'], axis = 1)"
   ]
  },
  {
   "cell_type": "code",
   "execution_count": 6,
   "metadata": {},
   "outputs": [],
   "source": [
    "us.set_index('date', inplace = True)\n",
    "df_us.set_index('date', inplace = True)"
   ]
  },
  {
   "cell_type": "code",
   "execution_count": 7,
   "metadata": {},
   "outputs": [],
   "source": [
    "df_us['case_day'] = df_us['cases'].diff()\n",
    "df_us['case_day'][0] = 1\n",
    "df_us['case_day'] =  df_us['case_day'].astype('int')"
   ]
  },
  {
   "cell_type": "code",
   "execution_count": 8,
   "metadata": {},
   "outputs": [],
   "source": [
    "merged = df_us.join(us, how='inner')"
   ]
  },
  {
   "cell_type": "code",
   "execution_count": 9,
   "metadata": {},
   "outputs": [
    {
     "data": {
      "text/html": [
       "<div>\n",
       "<style scoped>\n",
       "    .dataframe tbody tr th:only-of-type {\n",
       "        vertical-align: middle;\n",
       "    }\n",
       "\n",
       "    .dataframe tbody tr th {\n",
       "        vertical-align: top;\n",
       "    }\n",
       "\n",
       "    .dataframe thead th {\n",
       "        text-align: right;\n",
       "    }\n",
       "</style>\n",
       "<table border=\"1\" class=\"dataframe\">\n",
       "  <thead>\n",
       "    <tr style=\"text-align: right;\">\n",
       "      <th></th>\n",
       "      <th>cases</th>\n",
       "      <th>deaths</th>\n",
       "      <th>case_day</th>\n",
       "      <th>retail_and_recreation_percent_change_from_baseline</th>\n",
       "      <th>grocery_and_pharmacy_percent_change_from_baseline</th>\n",
       "      <th>parks_percent_change_from_baseline</th>\n",
       "      <th>transit_stations_percent_change_from_baseline</th>\n",
       "      <th>workplaces_percent_change_from_baseline</th>\n",
       "      <th>residential_percent_change_from_baseline</th>\n",
       "    </tr>\n",
       "    <tr>\n",
       "      <th>date</th>\n",
       "      <th></th>\n",
       "      <th></th>\n",
       "      <th></th>\n",
       "      <th></th>\n",
       "      <th></th>\n",
       "      <th></th>\n",
       "      <th></th>\n",
       "      <th></th>\n",
       "      <th></th>\n",
       "    </tr>\n",
       "  </thead>\n",
       "  <tbody>\n",
       "    <tr>\n",
       "      <th>2020-02-15</th>\n",
       "      <td>15</td>\n",
       "      <td>0</td>\n",
       "      <td>0</td>\n",
       "      <td>6.0</td>\n",
       "      <td>2.0</td>\n",
       "      <td>15.0</td>\n",
       "      <td>3.0</td>\n",
       "      <td>2.0</td>\n",
       "      <td>-1.0</td>\n",
       "    </tr>\n",
       "    <tr>\n",
       "      <th>2020-02-16</th>\n",
       "      <td>15</td>\n",
       "      <td>0</td>\n",
       "      <td>0</td>\n",
       "      <td>7.0</td>\n",
       "      <td>1.0</td>\n",
       "      <td>16.0</td>\n",
       "      <td>2.0</td>\n",
       "      <td>0.0</td>\n",
       "      <td>-1.0</td>\n",
       "    </tr>\n",
       "    <tr>\n",
       "      <th>2020-02-17</th>\n",
       "      <td>25</td>\n",
       "      <td>0</td>\n",
       "      <td>10</td>\n",
       "      <td>6.0</td>\n",
       "      <td>0.0</td>\n",
       "      <td>28.0</td>\n",
       "      <td>-9.0</td>\n",
       "      <td>-24.0</td>\n",
       "      <td>5.0</td>\n",
       "    </tr>\n",
       "    <tr>\n",
       "      <th>2020-02-18</th>\n",
       "      <td>25</td>\n",
       "      <td>0</td>\n",
       "      <td>0</td>\n",
       "      <td>0.0</td>\n",
       "      <td>-1.0</td>\n",
       "      <td>6.0</td>\n",
       "      <td>1.0</td>\n",
       "      <td>0.0</td>\n",
       "      <td>1.0</td>\n",
       "    </tr>\n",
       "    <tr>\n",
       "      <th>2020-02-19</th>\n",
       "      <td>25</td>\n",
       "      <td>0</td>\n",
       "      <td>0</td>\n",
       "      <td>2.0</td>\n",
       "      <td>0.0</td>\n",
       "      <td>8.0</td>\n",
       "      <td>1.0</td>\n",
       "      <td>1.0</td>\n",
       "      <td>0.0</td>\n",
       "    </tr>\n",
       "    <tr>\n",
       "      <th>...</th>\n",
       "      <td>...</td>\n",
       "      <td>...</td>\n",
       "      <td>...</td>\n",
       "      <td>...</td>\n",
       "      <td>...</td>\n",
       "      <td>...</td>\n",
       "      <td>...</td>\n",
       "      <td>...</td>\n",
       "      <td>...</td>\n",
       "    </tr>\n",
       "    <tr>\n",
       "      <th>2020-09-15</th>\n",
       "      <td>6614112</td>\n",
       "      <td>195683</td>\n",
       "      <td>39221</td>\n",
       "      <td>NaN</td>\n",
       "      <td>NaN</td>\n",
       "      <td>NaN</td>\n",
       "      <td>NaN</td>\n",
       "      <td>-34.0</td>\n",
       "      <td>9.0</td>\n",
       "    </tr>\n",
       "    <tr>\n",
       "      <th>2020-09-16</th>\n",
       "      <td>6653328</td>\n",
       "      <td>196680</td>\n",
       "      <td>39216</td>\n",
       "      <td>NaN</td>\n",
       "      <td>NaN</td>\n",
       "      <td>NaN</td>\n",
       "      <td>NaN</td>\n",
       "      <td>-34.0</td>\n",
       "      <td>9.0</td>\n",
       "    </tr>\n",
       "    <tr>\n",
       "      <th>2020-09-17</th>\n",
       "      <td>6698641</td>\n",
       "      <td>197529</td>\n",
       "      <td>45313</td>\n",
       "      <td>NaN</td>\n",
       "      <td>NaN</td>\n",
       "      <td>NaN</td>\n",
       "      <td>NaN</td>\n",
       "      <td>-34.0</td>\n",
       "      <td>9.0</td>\n",
       "    </tr>\n",
       "    <tr>\n",
       "      <th>2020-09-18</th>\n",
       "      <td>6747516</td>\n",
       "      <td>198476</td>\n",
       "      <td>48875</td>\n",
       "      <td>NaN</td>\n",
       "      <td>NaN</td>\n",
       "      <td>NaN</td>\n",
       "      <td>NaN</td>\n",
       "      <td>-33.0</td>\n",
       "      <td>8.0</td>\n",
       "    </tr>\n",
       "    <tr>\n",
       "      <th>2020-09-19</th>\n",
       "      <td>6789360</td>\n",
       "      <td>199148</td>\n",
       "      <td>41844</td>\n",
       "      <td>NaN</td>\n",
       "      <td>NaN</td>\n",
       "      <td>NaN</td>\n",
       "      <td>NaN</td>\n",
       "      <td>-13.0</td>\n",
       "      <td>2.0</td>\n",
       "    </tr>\n",
       "  </tbody>\n",
       "</table>\n",
       "<p>218 rows × 9 columns</p>\n",
       "</div>"
      ],
      "text/plain": [
       "              cases  deaths  case_day  \\\n",
       "date                                    \n",
       "2020-02-15       15       0         0   \n",
       "2020-02-16       15       0         0   \n",
       "2020-02-17       25       0        10   \n",
       "2020-02-18       25       0         0   \n",
       "2020-02-19       25       0         0   \n",
       "...             ...     ...       ...   \n",
       "2020-09-15  6614112  195683     39221   \n",
       "2020-09-16  6653328  196680     39216   \n",
       "2020-09-17  6698641  197529     45313   \n",
       "2020-09-18  6747516  198476     48875   \n",
       "2020-09-19  6789360  199148     41844   \n",
       "\n",
       "            retail_and_recreation_percent_change_from_baseline  \\\n",
       "date                                                             \n",
       "2020-02-15                                                6.0    \n",
       "2020-02-16                                                7.0    \n",
       "2020-02-17                                                6.0    \n",
       "2020-02-18                                                0.0    \n",
       "2020-02-19                                                2.0    \n",
       "...                                                       ...    \n",
       "2020-09-15                                                NaN    \n",
       "2020-09-16                                                NaN    \n",
       "2020-09-17                                                NaN    \n",
       "2020-09-18                                                NaN    \n",
       "2020-09-19                                                NaN    \n",
       "\n",
       "            grocery_and_pharmacy_percent_change_from_baseline  \\\n",
       "date                                                            \n",
       "2020-02-15                                                2.0   \n",
       "2020-02-16                                                1.0   \n",
       "2020-02-17                                                0.0   \n",
       "2020-02-18                                               -1.0   \n",
       "2020-02-19                                                0.0   \n",
       "...                                                       ...   \n",
       "2020-09-15                                                NaN   \n",
       "2020-09-16                                                NaN   \n",
       "2020-09-17                                                NaN   \n",
       "2020-09-18                                                NaN   \n",
       "2020-09-19                                                NaN   \n",
       "\n",
       "            parks_percent_change_from_baseline  \\\n",
       "date                                             \n",
       "2020-02-15                                15.0   \n",
       "2020-02-16                                16.0   \n",
       "2020-02-17                                28.0   \n",
       "2020-02-18                                 6.0   \n",
       "2020-02-19                                 8.0   \n",
       "...                                        ...   \n",
       "2020-09-15                                 NaN   \n",
       "2020-09-16                                 NaN   \n",
       "2020-09-17                                 NaN   \n",
       "2020-09-18                                 NaN   \n",
       "2020-09-19                                 NaN   \n",
       "\n",
       "            transit_stations_percent_change_from_baseline  \\\n",
       "date                                                        \n",
       "2020-02-15                                            3.0   \n",
       "2020-02-16                                            2.0   \n",
       "2020-02-17                                           -9.0   \n",
       "2020-02-18                                            1.0   \n",
       "2020-02-19                                            1.0   \n",
       "...                                                   ...   \n",
       "2020-09-15                                            NaN   \n",
       "2020-09-16                                            NaN   \n",
       "2020-09-17                                            NaN   \n",
       "2020-09-18                                            NaN   \n",
       "2020-09-19                                            NaN   \n",
       "\n",
       "            workplaces_percent_change_from_baseline  \\\n",
       "date                                                  \n",
       "2020-02-15                                      2.0   \n",
       "2020-02-16                                      0.0   \n",
       "2020-02-17                                    -24.0   \n",
       "2020-02-18                                      0.0   \n",
       "2020-02-19                                      1.0   \n",
       "...                                             ...   \n",
       "2020-09-15                                    -34.0   \n",
       "2020-09-16                                    -34.0   \n",
       "2020-09-17                                    -34.0   \n",
       "2020-09-18                                    -33.0   \n",
       "2020-09-19                                    -13.0   \n",
       "\n",
       "            residential_percent_change_from_baseline  \n",
       "date                                                  \n",
       "2020-02-15                                      -1.0  \n",
       "2020-02-16                                      -1.0  \n",
       "2020-02-17                                       5.0  \n",
       "2020-02-18                                       1.0  \n",
       "2020-02-19                                       0.0  \n",
       "...                                              ...  \n",
       "2020-09-15                                       9.0  \n",
       "2020-09-16                                       9.0  \n",
       "2020-09-17                                       9.0  \n",
       "2020-09-18                                       8.0  \n",
       "2020-09-19                                       2.0  \n",
       "\n",
       "[218 rows x 9 columns]"
      ]
     },
     "execution_count": 9,
     "metadata": {},
     "output_type": "execute_result"
    }
   ],
   "source": [
    "merged"
   ]
  },
  {
   "cell_type": "code",
   "execution_count": 10,
   "metadata": {},
   "outputs": [
    {
     "name": "stdout",
     "output_type": "stream",
     "text": [
      "<class 'pandas.core.frame.DataFrame'>\n",
      "Index: 218 entries, 2020-02-15 to 2020-09-19\n",
      "Data columns (total 9 columns):\n",
      " #   Column                                              Non-Null Count  Dtype  \n",
      "---  ------                                              --------------  -----  \n",
      " 0   cases                                               218 non-null    int64  \n",
      " 1   deaths                                              218 non-null    int64  \n",
      " 2   case_day                                            218 non-null    int32  \n",
      " 3   retail_and_recreation_percent_change_from_baseline  184 non-null    float64\n",
      " 4   grocery_and_pharmacy_percent_change_from_baseline   184 non-null    float64\n",
      " 5   parks_percent_change_from_baseline                  184 non-null    float64\n",
      " 6   transit_stations_percent_change_from_baseline       184 non-null    float64\n",
      " 7   workplaces_percent_change_from_baseline             218 non-null    float64\n",
      " 8   residential_percent_change_from_baseline            218 non-null    float64\n",
      "dtypes: float64(6), int32(1), int64(2)\n",
      "memory usage: 16.2+ KB\n"
     ]
    }
   ],
   "source": [
    "merged.info()"
   ]
  },
  {
   "cell_type": "code",
   "execution_count": 11,
   "metadata": {},
   "outputs": [
    {
     "data": {
      "text/plain": [
       "<AxesSubplot:xlabel='date'>"
      ]
     },
     "execution_count": 11,
     "metadata": {},
     "output_type": "execute_result"
    },
    {
     "data": {
      "image/png": "[encoded data removed]",
      "text/plain": [
       "<Figure size 576x360 with 1 Axes>"
      ]
     },
     "metadata": {},
     "output_type": "display_data"
    }
   ],
   "source": [
    "merged['workplaces_percent_change_from_baseline'].plot()"
   ]
  },
  {
   "cell_type": "code",
   "execution_count": 12,
   "metadata": {},
   "outputs": [],
   "source": [
    "workplace = merged[['case_day', 'workplaces_percent_change_from_baseline']]"
   ]
  },
  {
   "cell_type": "code",
   "execution_count": 13,
   "metadata": {},
   "outputs": [
    {
     "data": {
      "text/html": [
       "<div>\n",
       "<style scoped>\n",
       "    .dataframe tbody tr th:only-of-type {\n",
       "        vertical-align: middle;\n",
       "    }\n",
       "\n",
       "    .dataframe tbody tr th {\n",
       "        vertical-align: top;\n",
       "    }\n",
       "\n",
       "    .dataframe thead th {\n",
       "        text-align: right;\n",
       "    }\n",
       "</style>\n",
       "<table border=\"1\" class=\"dataframe\">\n",
       "  <thead>\n",
       "    <tr style=\"text-align: right;\">\n",
       "      <th></th>\n",
       "      <th>case_day</th>\n",
       "      <th>workplaces_percent_change_from_baseline</th>\n",
       "    </tr>\n",
       "    <tr>\n",
       "      <th>date</th>\n",
       "      <th></th>\n",
       "      <th></th>\n",
       "    </tr>\n",
       "  </thead>\n",
       "  <tbody>\n",
       "    <tr>\n",
       "      <th>2020-09-15</th>\n",
       "      <td>39221</td>\n",
       "      <td>-34.0</td>\n",
       "    </tr>\n",
       "    <tr>\n",
       "      <th>2020-09-16</th>\n",
       "      <td>39216</td>\n",
       "      <td>-34.0</td>\n",
       "    </tr>\n",
       "    <tr>\n",
       "      <th>2020-09-17</th>\n",
       "      <td>45313</td>\n",
       "      <td>-34.0</td>\n",
       "    </tr>\n",
       "    <tr>\n",
       "      <th>2020-09-18</th>\n",
       "      <td>48875</td>\n",
       "      <td>-33.0</td>\n",
       "    </tr>\n",
       "    <tr>\n",
       "      <th>2020-09-19</th>\n",
       "      <td>41844</td>\n",
       "      <td>-13.0</td>\n",
       "    </tr>\n",
       "  </tbody>\n",
       "</table>\n",
       "</div>"
      ],
      "text/plain": [
       "            case_day  workplaces_percent_change_from_baseline\n",
       "date                                                         \n",
       "2020-09-15     39221                                    -34.0\n",
       "2020-09-16     39216                                    -34.0\n",
       "2020-09-17     45313                                    -34.0\n",
       "2020-09-18     48875                                    -33.0\n",
       "2020-09-19     41844                                    -13.0"
      ]
     },
     "execution_count": 13,
     "metadata": {},
     "output_type": "execute_result"
    }
   ],
   "source": [
    "workplace.tail()"
   ]
  },
  {
   "cell_type": "code",
   "execution_count": 14,
   "metadata": {},
   "outputs": [
    {
     "name": "stdout",
     "output_type": "stream",
     "text": [
      "<class 'pandas.core.frame.DataFrame'>\n",
      "Index: 218 entries, 2020-02-15 to 2020-09-19\n",
      "Data columns (total 2 columns):\n",
      " #   Column                                   Non-Null Count  Dtype  \n",
      "---  ------                                   --------------  -----  \n",
      " 0   case_day                                 218 non-null    int32  \n",
      " 1   workplaces_percent_change_from_baseline  218 non-null    float64\n",
      "dtypes: float64(1), int32(1)\n",
      "memory usage: 4.3+ KB\n"
     ]
    }
   ],
   "source": [
    "workplace.info()"
   ]
  },
  {
   "cell_type": "code",
   "execution_count": null,
   "metadata": {},
   "outputs": [],
   "source": []
  }
 ],
 "metadata": {
  "kernelspec": {
   "display_name": "Python 3",
   "language": "python",
   "name": "python3"
  },
  "language_info": {
   "codemirror_mode": {
    "name": "ipython",
    "version": 3
   },
   "file_extension": ".py",
   "mimetype": "text/x-python",
   "name": "python",
   "nbconvert_exporter": "python",
   "pygments_lexer": "ipython3",
   "version": "3.8.3"
  }
 },
 "nbformat": 4,
 "nbformat_minor": 4
}
